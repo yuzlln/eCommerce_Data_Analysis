{
 "cells": [
  {
   "cell_type": "code",
   "execution_count": 1,
   "metadata": {},
   "outputs": [
    {
     "name": "stdout",
     "output_type": "stream",
     "text": [
      "orange\n"
     ]
    }
   ],
   "source": [
    "x = 5\n",
    "\n",
    "if x > 10 :\n",
    "    print('apple')\n",
    "else :\n",
    "    print('orange')"
   ]
  },
  {
   "cell_type": "code",
   "execution_count": 2,
   "metadata": {},
   "outputs": [
    {
     "name": "stdout",
     "output_type": "stream",
     "text": [
      "7\n"
     ]
    }
   ],
   "source": [
    "x = 17\n",
    "\n",
    "if x > 10 :\n",
    "    print(x - 10)\n",
    "else : \n",
    "    print(x + 10)"
   ]
  },
  {
   "cell_type": "code",
   "execution_count": 3,
   "metadata": {},
   "outputs": [
    {
     "name": "stdout",
     "output_type": "stream",
     "text": [
      "medium\n"
     ]
    }
   ],
   "source": [
    "x = 8\n",
    "\n",
    "if x > 10 :\n",
    "    print('large')\n",
    "elif x > 5 :\n",
    "    print('medium') \n",
    "else : \n",
    "    print('small')"
   ]
  },
  {
   "cell_type": "code",
   "execution_count": 4,
   "metadata": {},
   "outputs": [
    {
     "name": "stdout",
     "output_type": "stream",
     "text": [
      "small_odd\n"
     ]
    }
   ],
   "source": [
    "x = 9\n",
    "\n",
    "if x > 10 :\n",
    "    if x % 2 == 0 :\n",
    "        print('large_even')\n",
    "    else : \n",
    "        print('large_odd')\n",
    "else :\n",
    "    if x % 2 == 0 :\n",
    "        print('small_even')\n",
    "    else :\n",
    "        print('small_odd')"
   ]
  }
 ],
 "metadata": {
  "kernelspec": {
   "display_name": "base",
   "language": "python",
   "name": "python3"
  },
  "language_info": {
   "codemirror_mode": {
    "name": "ipython",
    "version": 3
   },
   "file_extension": ".py",
   "mimetype": "text/x-python",
   "name": "python",
   "nbconvert_exporter": "python",
   "pygments_lexer": "ipython3",
   "version": "3.11.5"
  }
 },
 "nbformat": 4,
 "nbformat_minor": 2
}
