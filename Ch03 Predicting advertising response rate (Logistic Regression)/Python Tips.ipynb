{
 "cells": [
  {
   "cell_type": "code",
   "execution_count": 1,
   "metadata": {},
   "outputs": [],
   "source": [
    "import pandas as pd\n",
    "import numpy as np\n",
    "import seaborn as sns\n",
    "import matplotlib.pyplot as plt\n",
    "%matplotlib inline\n",
    "\n",
    "import warnings\n",
    "warnings.filterwarnings('ignore')"
   ]
  },
  {
   "cell_type": "code",
   "execution_count": 2,
   "metadata": {},
   "outputs": [
    {
     "name": "stdout",
     "output_type": "stream",
     "text": [
      "(1000, 10)\n"
     ]
    },
    {
     "data": {
      "text/html": [
       "<div>\n",
       "<style scoped>\n",
       "    .dataframe tbody tr th:only-of-type {\n",
       "        vertical-align: middle;\n",
       "    }\n",
       "\n",
       "    .dataframe tbody tr th {\n",
       "        vertical-align: top;\n",
       "    }\n",
       "\n",
       "    .dataframe thead th {\n",
       "        text-align: right;\n",
       "    }\n",
       "</style>\n",
       "<table border=\"1\" class=\"dataframe\">\n",
       "  <thead>\n",
       "    <tr style=\"text-align: right;\">\n",
       "      <th></th>\n",
       "      <th>Daily Time Spent on Site</th>\n",
       "      <th>Age</th>\n",
       "      <th>Area Income</th>\n",
       "      <th>Daily Internet Usage</th>\n",
       "      <th>Ad Topic Line</th>\n",
       "      <th>City</th>\n",
       "      <th>Male</th>\n",
       "      <th>Country</th>\n",
       "      <th>Timestamp</th>\n",
       "      <th>Clicked on Ad</th>\n",
       "    </tr>\n",
       "  </thead>\n",
       "  <tbody>\n",
       "    <tr>\n",
       "      <th>0</th>\n",
       "      <td>68.95</td>\n",
       "      <td>NaN</td>\n",
       "      <td>61833.90</td>\n",
       "      <td>256.09</td>\n",
       "      <td>Cloned 5thgeneration orchestration</td>\n",
       "      <td>Wrightburgh</td>\n",
       "      <td>0</td>\n",
       "      <td>Tunisia</td>\n",
       "      <td>3/27/2016 0:53</td>\n",
       "      <td>0</td>\n",
       "    </tr>\n",
       "    <tr>\n",
       "      <th>1</th>\n",
       "      <td>80.23</td>\n",
       "      <td>31.0</td>\n",
       "      <td>68441.85</td>\n",
       "      <td>193.77</td>\n",
       "      <td>Monitored national standardization</td>\n",
       "      <td>West Jodi</td>\n",
       "      <td>1</td>\n",
       "      <td>Nauru</td>\n",
       "      <td>4/4/2016 1:39</td>\n",
       "      <td>0</td>\n",
       "    </tr>\n",
       "    <tr>\n",
       "      <th>2</th>\n",
       "      <td>69.47</td>\n",
       "      <td>26.0</td>\n",
       "      <td>59785.94</td>\n",
       "      <td>236.50</td>\n",
       "      <td>Organic bottom-line service-desk</td>\n",
       "      <td>Davidton</td>\n",
       "      <td>0</td>\n",
       "      <td>San Marino</td>\n",
       "      <td>3/13/2016 20:35</td>\n",
       "      <td>0</td>\n",
       "    </tr>\n",
       "  </tbody>\n",
       "</table>\n",
       "</div>"
      ],
      "text/plain": [
       "   Daily Time Spent on Site   Age  Area Income  Daily Internet Usage  \\\n",
       "0                     68.95   NaN     61833.90                256.09   \n",
       "1                     80.23  31.0     68441.85                193.77   \n",
       "2                     69.47  26.0     59785.94                236.50   \n",
       "\n",
       "                        Ad Topic Line         City  Male     Country  \\\n",
       "0  Cloned 5thgeneration orchestration  Wrightburgh     0     Tunisia   \n",
       "1  Monitored national standardization    West Jodi     1       Nauru   \n",
       "2    Organic bottom-line service-desk     Davidton     0  San Marino   \n",
       "\n",
       "         Timestamp  Clicked on Ad  \n",
       "0   3/27/2016 0:53              0  \n",
       "1    4/4/2016 1:39              0  \n",
       "2  3/13/2016 20:35              0  "
      ]
     },
     "execution_count": 2,
     "metadata": {},
     "output_type": "execute_result"
    }
   ],
   "source": [
    "# 데이터 불러오기\n",
    "df = pd.read_csv(\"advertising.csv\")\n",
    "\n",
    "print(df.shape)\n",
    "df.head(3)"
   ]
  },
  {
   "cell_type": "code",
   "execution_count": 3,
   "metadata": {},
   "outputs": [
    {
     "data": {
      "text/plain": [
       "237"
      ]
     },
     "execution_count": 3,
     "metadata": {},
     "output_type": "execute_result"
    }
   ],
   "source": [
    "df['Country'].nunique()"
   ]
  },
  {
   "cell_type": "code",
   "execution_count": 4,
   "metadata": {},
   "outputs": [
    {
     "data": {
      "text/plain": [
       "array(['Tunisia', 'Nauru', 'San Marino', 'Italy', 'Iceland', 'Norway',\n",
       "       'Myanmar', 'Australia', 'Grenada', 'Ghana', 'Qatar', 'Burundi',\n",
       "       'Egypt', 'Bosnia and Herzegovina', 'Barbados', 'Spain',\n",
       "       'Palestinian Territory', 'Afghanistan',\n",
       "       'British Indian Ocean Territory (Chagos Archipelago)',\n",
       "       'Russian Federation', 'Cameroon', 'Korea', 'Tokelau', 'Monaco',\n",
       "       'Tuvalu', 'Greece', 'British Virgin Islands',\n",
       "       'Bouvet Island (Bouvetoya)', 'Peru', 'Aruba', 'Maldives',\n",
       "       'Senegal', 'Dominica', 'Luxembourg', 'Montenegro', 'Ukraine',\n",
       "       'Saint Helena', 'Liberia', 'Turkmenistan', 'Niger', 'Sri Lanka',\n",
       "       'Trinidad and Tobago', 'United Kingdom', 'Guinea-Bissau',\n",
       "       'Micronesia', 'Turkey', 'Croatia', 'Israel',\n",
       "       'Svalbard & Jan Mayen Islands', 'Azerbaijan', 'Iran',\n",
       "       'Saint Vincent and the Grenadines', 'Bulgaria', 'Christmas Island',\n",
       "       'Canada', 'Rwanda', 'Turks and Caicos Islands', 'Norfolk Island',\n",
       "       'Cook Islands', 'Guatemala', \"Cote d'Ivoire\", 'Faroe Islands',\n",
       "       'Ireland', 'Moldova', 'Nicaragua', 'Montserrat', 'Timor-Leste',\n",
       "       'Puerto Rico', 'Central African Republic', 'Venezuela',\n",
       "       'Wallis and Futuna', 'Jersey', 'Samoa',\n",
       "       'Antarctica (the territory South of 60 deg S)', 'Albania',\n",
       "       'Hong Kong', 'Lithuania', 'Bangladesh', 'Western Sahara', 'Serbia',\n",
       "       'Czech Republic', 'Guernsey', 'Tanzania', 'Bhutan', 'Guinea',\n",
       "       'Madagascar', 'Lebanon', 'Eritrea', 'Guyana',\n",
       "       'United Arab Emirates', 'Martinique', 'Somalia', 'Benin',\n",
       "       'Papua New Guinea', 'Uzbekistan', 'South Africa', 'Hungary',\n",
       "       'Falkland Islands (Malvinas)', 'Saint Martin', 'Cuba',\n",
       "       'United States Minor Outlying Islands', 'Belize', 'Kuwait',\n",
       "       'Thailand', 'Gibraltar', 'Holy See (Vatican City State)',\n",
       "       'Netherlands', 'Belarus', 'New Zealand', 'Togo', 'Kenya', 'Palau',\n",
       "       'Cambodia', 'Costa Rica', 'Liechtenstein', 'Angola',\n",
       "       'Equatorial Guinea', 'Mongolia', 'Brazil', 'Chad', 'Portugal',\n",
       "       'Malawi', 'Singapore', 'Kazakhstan', 'China', 'Vietnam', 'Mayotte',\n",
       "       'Jamaica', 'Bahamas', 'Algeria', 'Fiji', 'Argentina',\n",
       "       'Philippines', 'Suriname', 'Guam', 'Antigua and Barbuda',\n",
       "       'Georgia', 'Jordan', 'Saudi Arabia', 'Sao Tome and Principe',\n",
       "       'Cyprus', 'Kyrgyz Republic', 'Pakistan', 'Seychelles',\n",
       "       'Mauritania', 'Chile', 'Poland', 'Estonia', 'Latvia', 'Bahrain',\n",
       "       'Colombia', 'Brunei Darussalam', 'Taiwan',\n",
       "       'Saint Pierre and Miquelon', 'Finland',\n",
       "       'French Southern Territories', 'Sierra Leone', 'Tajikistan',\n",
       "       'Ecuador', 'Switzerland', 'France', 'Malaysia', 'Mauritius',\n",
       "       'Japan', 'Greenland', 'Guadeloupe', 'Belgium', 'Honduras',\n",
       "       'Paraguay', 'French Guiana', 'Northern Mariana Islands',\n",
       "       'American Samoa', 'Austria', 'Tonga', 'New Caledonia',\n",
       "       'United States of America', 'Morocco', 'Macedonia', 'Gabon',\n",
       "       'Uganda', 'Saint Lucia', 'Niue', 'Zambia', 'Congo',\n",
       "       'Pitcairn Islands', 'Anguilla', 'Sweden', 'Indonesia', 'Mexico',\n",
       "       'Haiti', 'Gambia', 'El Salvador', 'Libyan Arab Jamahiriya',\n",
       "       'Saint Barthelemy', 'Reunion', 'Panama', 'Dominican Republic',\n",
       "       'Zimbabwe', 'Swaziland', 'Saint Kitts and Nevis', 'Burkina Faso',\n",
       "       'Heard Island and McDonald Islands', 'Bolivia',\n",
       "       'Netherlands Antilles', 'French Polynesia', 'Germany', 'Malta',\n",
       "       'Sudan', \"Lao People's Democratic Republic\", 'Isle of Man',\n",
       "       'Macao', 'United States Virgin Islands', 'Djibouti', 'Mali',\n",
       "       'Romania', 'Cayman Islands', 'Ethiopia', 'Uruguay', 'Comoros',\n",
       "       'Vanuatu', 'Nepal', 'Yemen', 'India', 'Cape Verde', 'Slovenia',\n",
       "       'Denmark', 'Syrian Arab Republic', 'Andorra', 'Namibia',\n",
       "       'Slovakia (Slovak Republic)', 'Armenia',\n",
       "       'South Georgia and the South Sandwich Islands', 'Kiribati',\n",
       "       'Marshall Islands', 'Bermuda', 'Mozambique', 'Lesotho'],\n",
       "      dtype=object)"
      ]
     },
     "execution_count": 4,
     "metadata": {},
     "output_type": "execute_result"
    }
   ],
   "source": [
    "df['Country'].unique()"
   ]
  },
  {
   "cell_type": "code",
   "execution_count": 5,
   "metadata": {},
   "outputs": [
    {
     "data": {
      "text/plain": [
       "Country\n",
       "France                                                 9\n",
       "Czech Republic                                         9\n",
       "Peru                                                   8\n",
       "Turkey                                                 8\n",
       "Greece                                                 8\n",
       "                                                      ..\n",
       "Romania                                                1\n",
       "British Indian Ocean Territory (Chagos Archipelago)    1\n",
       "Germany                                                1\n",
       "Aruba                                                  1\n",
       "Lesotho                                                1\n",
       "Name: count, Length: 237, dtype: int64"
      ]
     },
     "execution_count": 5,
     "metadata": {},
     "output_type": "execute_result"
    }
   ],
   "source": [
    "df['Country'].value_counts()"
   ]
  }
 ],
 "metadata": {
  "kernelspec": {
   "display_name": "base",
   "language": "python",
   "name": "python3"
  },
  "language_info": {
   "codemirror_mode": {
    "name": "ipython",
    "version": 3
   },
   "file_extension": ".py",
   "mimetype": "text/x-python",
   "name": "python",
   "nbconvert_exporter": "python",
   "pygments_lexer": "ipython3",
   "version": "3.11.5"
  }
 },
 "nbformat": 4,
 "nbformat_minor": 2
}
